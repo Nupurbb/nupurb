{
 "cells": [
  {
   "cell_type": "code",
   "execution_count": 29,
   "metadata": {},
   "outputs": [
    {
     "name": "stdout",
     "output_type": "stream",
     "text": [
      "Activity Data\n",
      "Index(['Id', 'ActivityDate', 'TotalSteps', 'TotalDistance', 'TrackerDistance',\n",
      "       'LoggedActivitiesDistance', 'VeryActiveDistance',\n",
      "       'ModeratelyActiveDistance', 'LightActiveDistance',\n",
      "       'SedentaryActiveDistance', 'VeryActiveMinutes', 'FairlyActiveMinutes',\n",
      "       'LightlyActiveMinutes', 'SedentaryMinutes', 'Calories'],\n",
      "      dtype='object')\n"
     ]
    }
   ],
   "source": [
    "import pandas as pd\n",
    "import seaborn as sns\n",
    "\n",
    "# Load the titanic dataset\n",
    "activity_data = pd.read_csv('/mnt/c/Users/nupur/vscode/student3/_posts/activity.csv')\n",
    "\n",
    "print(\"Activity Data\")\n",
    "\n",
    "\n",
    "print(activity_data.columns) # titanic data set"
   ]
  },
  {
   "cell_type": "code",
   "execution_count": 35,
   "metadata": {},
   "outputs": [
    {
     "name": "stdout",
     "output_type": "stream",
     "text": [
      "Index(['Id', 'ActivityDate', 'TotalSteps', 'TotalDistance', 'TrackerDistance',\n",
      "       'LoggedActivitiesDistance', 'VeryActiveDistance',\n",
      "       'ModeratelyActiveDistance', 'LightActiveDistance',\n",
      "       'SedentaryActiveDistance',\n",
      "       ...\n",
      "       'Calories_4163', 'Calories_4236', 'Calories_4274', 'Calories_4392',\n",
      "       'Calories_4398', 'Calories_4501', 'Calories_4546', 'Calories_4547',\n",
      "       'Calories_4552', 'Calories_4900'],\n",
      "      dtype='object', length=748)\n",
      "Error: 'Calories' column not found in DataFrame.\n"
     ]
    }
   ],
   "source": [
    "import pandas as pd\n",
    "from sklearn.preprocessing import OneHotEncoder\n",
    "\n",
    "# Assuming activity_data is your DataFrame\n",
    "td = activity_data.copy()  # Make a copy of the DataFrame to avoid modifying the original data\n",
    "\n",
    "# Print the columns of the DataFrame to check for the presence of 'Calories' column\n",
    "print(td.columns)\n",
    "\n",
    "# Check if 'Calories' column exists in td\n",
    "if 'Calories' not in td.columns:\n",
    "    print(\"Error: 'Calories' column not found in DataFrame.\")\n",
    "else:\n",
    "    # Convert 'VeryActiveDistance' column to binary\n",
    "    td['VeryActiveDistance'] = td['VeryActiveDistance'].apply(lambda x: 1 if x == 'hi' else 0)\n",
    "    td['VeryActiveDistance'] = td['VeryActiveDistance'].apply(lambda x: 1 if x == True else 0)\n",
    "\n",
    "    # Encode categorical variables\n",
    "    enc = OneHotEncoder(handle_unknown='ignore')\n",
    "    onehot = enc.fit_transform(td[['Calories']]).toarray()\n",
    "    cols = [f'Calories_{val}' for val in enc.categories_[0]]\n",
    "    td[cols] = pd.DataFrame(onehot, columns=cols)\n",
    "    td.drop(['Calories'], axis=1, inplace=True)\n",
    "    td.dropna(inplace=True)  # Drop rows with at least one missing value, after preparing the data\n",
    "\n",
    "    print(td.columns)\n",
    "    display(td)\n"
   ]
  },
  {
   "cell_type": "code",
   "execution_count": 32,
   "metadata": {},
   "outputs": [
    {
     "name": "stdout",
     "output_type": "stream",
     "text": [
      "DecisionTreeClassifier Accuracy: 0.00%\n",
      "LogisticRegression Accuracy: 0.35%\n"
     ]
    },
    {
     "name": "stderr",
     "output_type": "stream",
     "text": [
      "/home/nbhalla/.local/lib/python3.10/site-packages/sklearn/linear_model/_logistic.py:469: ConvergenceWarning: lbfgs failed to converge (status=1):\n",
      "STOP: TOTAL NO. of ITERATIONS REACHED LIMIT.\n",
      "\n",
      "Increase the number of iterations (max_iter) or scale the data as shown in:\n",
      "    https://scikit-learn.org/stable/modules/preprocessing.html\n",
      "Please also refer to the documentation for alternative solver options:\n",
      "    https://scikit-learn.org/stable/modules/linear_model.html#logistic-regression\n",
      "  n_iter_i = _check_optimize_result(\n"
     ]
    }
   ],
   "source": [
    "import pandas as pd\n",
    "from sklearn.model_selection import train_test_split\n",
    "from sklearn.tree import DecisionTreeClassifier\n",
    "from sklearn.linear_model import LogisticRegression\n",
    "from sklearn.metrics import accuracy_score\n",
    "\n",
    "# Load the dataset into a DataFrame\n",
    "url = \"/mnt/c/Users/nupur/vscode/student3/_posts/activity.csv\"  # Replace \"path/to/your/dataset.csv\" with the actual path to your dataset\n",
    "df = pd.read_csv(url)\n",
    "\n",
    "# Define X by selecting the features (columns) you want to use for prediction\n",
    "# You can adjust this based on the columns you want to include as features\n",
    "# Let's say you want to use all columns except 'Calories', 'ActivityDate', and 'Id' as features\n",
    "X = df.drop(['Calories', 'ActivityDate', 'Id'], axis=1)\n",
    "\n",
    "# Define y as the target variable you want to predict\n",
    "y = df['Calories']\n",
    "\n",
    "# Split the dataset into train and test sets (70% train, 30% test), with a fixed random state\n",
    "X_train, X_test, y_train, y_test = train_test_split(X, y, test_size=0.3, random_state=42)\n",
    "\n",
    "# Train a decision tree classifier\n",
    "dt = DecisionTreeClassifier()\n",
    "dt.fit(X_train, y_train)\n",
    "\n",
    "# Test the decision tree classifier\n",
    "y_pred_dt = dt.predict(X_test)\n",
    "accuracy_dt = accuracy_score(y_test, y_pred_dt)\n",
    "print('DecisionTreeClassifier Accuracy: {:.2%}'.format(accuracy_dt))\n",
    "\n",
    "# Train a logistic regression model\n",
    "logreg = LogisticRegression()\n",
    "logreg.fit(X_train, y_train)\n",
    "\n",
    "# Test the logistic regression model\n",
    "y_pred_logreg = logreg.predict(X_test)\n",
    "accuracy_logreg = accuracy_score(y_test, y_pred_logreg)\n",
    "print('LogisticRegression Accuracy: {:.2%}'.format(accuracy_logreg))\n"
   ]
  },
  {
   "cell_type": "code",
   "execution_count": 36,
   "metadata": {},
   "outputs": [
    {
     "name": "stdout",
     "output_type": "stream",
     "text": [
      "Mean Squared Error: 108.33239800293991\n"
     ]
    }
   ],
   "source": [
    "import pandas as pd\n",
    "from sklearn.model_selection import train_test_split\n",
    "from sklearn.linear_model import Ridge\n",
    "from sklearn.preprocessing import PolynomialFeatures\n",
    "from sklearn.pipeline import make_pipeline\n",
    "from sklearn.metrics import mean_squared_error\n",
    "\n",
    "# Load the fitness dataset into a pandas DataFrame\n",
    "data = pd.DataFrame({\n",
    "    'Duration': [30, 45, 60, 20, 35, 50, 25, 40, 55, 30, 45, 60, 20, 35, 50, 25, 40, 55, 30, 45],\n",
    "    'Heart Rate': [120, 140, 160, 110, 130, 150, 125, 145, 165, 120, 140, 160, 110, 130, 150, 125, 145, 165, 120, 140],\n",
    "    'Intensity Level': [3, 6, 9, 2, 5, 8, 4, 7, 10, 3, 6, 9, 2, 5, 8, 4, 7, 10, 3, 6],\n",
    "    'Calories Burned': [200, 300, 400, 150, 250, 350, 180, 280, 410, 210, 320, 390, 160, 240, 360, 170, 270, 400, 220, 310]\n",
    "})\n",
    "\n",
    "# Split the dataset into training and test data\n",
    "X_train, X_test, y_train, y_test = train_test_split(data[['Duration', 'Heart Rate', 'Intensity Level']], data['Calories Burned'], test_size=0.2, random_state=42)\n",
    "\n",
    "# Create a pipeline with polynomial features and Ridge regression\n",
    "model = make_pipeline(PolynomialFeatures(degree=2), Ridge(alpha=0.1)) \n",
    "\n",
    "# Fit the model to the training data\n",
    "model.fit(X_train, y_train)\n",
    "\n",
    "# Make predictions on the test data\n",
    "y_pred = model.predict(X_test)\n",
    "\n",
    "# Calculate the mean squared error\n",
    "mse = mean_squared_error(y_test, y_pred)\n",
    "print(\"Mean Squared Error:\", mse)"
   ]
  },
  {
   "cell_type": "code",
   "execution_count": 37,
   "metadata": {},
   "outputs": [
    {
     "ename": "ValueError",
     "evalue": "could not convert string to float: ''",
     "output_type": "error",
     "traceback": [
      "\u001b[0;31m---------------------------------------------------------------------------\u001b[0m",
      "\u001b[0;31mValueError\u001b[0m                                Traceback (most recent call last)",
      "\u001b[0;32m/tmp/ipykernel_242383/1214104261.py\u001b[0m in \u001b[0;36m<module>\u001b[0;34m\u001b[0m\n\u001b[1;32m     20\u001b[0m \u001b[0;34m\u001b[0m\u001b[0m\n\u001b[1;32m     21\u001b[0m \u001b[0;31m# Prompt user for input and calculate estimate\u001b[0m\u001b[0;34m\u001b[0m\u001b[0;34m\u001b[0m\u001b[0m\n\u001b[0;32m---> 22\u001b[0;31m \u001b[0mcalculate_estimate\u001b[0m\u001b[0;34m(\u001b[0m\u001b[0;34m)\u001b[0m\u001b[0;34m\u001b[0m\u001b[0;34m\u001b[0m\u001b[0m\n\u001b[0m",
      "\u001b[0;32m/tmp/ipykernel_242383/1214104261.py\u001b[0m in \u001b[0;36mcalculate_estimate\u001b[0;34m()\u001b[0m\n\u001b[1;32m      2\u001b[0m \u001b[0;34m\u001b[0m\u001b[0m\n\u001b[1;32m      3\u001b[0m \u001b[0;32mdef\u001b[0m \u001b[0mcalculate_estimate\u001b[0m\u001b[0;34m(\u001b[0m\u001b[0;34m)\u001b[0m\u001b[0;34m:\u001b[0m\u001b[0;34m\u001b[0m\u001b[0;34m\u001b[0m\u001b[0m\n\u001b[0;32m----> 4\u001b[0;31m     \u001b[0mduration\u001b[0m \u001b[0;34m=\u001b[0m \u001b[0mfloat\u001b[0m\u001b[0;34m(\u001b[0m\u001b[0minput\u001b[0m\u001b[0;34m(\u001b[0m\u001b[0;34m\"Enter Duration (minutes): \"\u001b[0m\u001b[0;34m)\u001b[0m\u001b[0;34m)\u001b[0m\u001b[0;34m\u001b[0m\u001b[0;34m\u001b[0m\u001b[0m\n\u001b[0m\u001b[1;32m      5\u001b[0m     \u001b[0mheart_rate\u001b[0m \u001b[0;34m=\u001b[0m \u001b[0mfloat\u001b[0m\u001b[0;34m(\u001b[0m\u001b[0minput\u001b[0m\u001b[0;34m(\u001b[0m\u001b[0;34m\"Enter Heart Rate (bpm): \"\u001b[0m\u001b[0;34m)\u001b[0m\u001b[0;34m)\u001b[0m\u001b[0;34m\u001b[0m\u001b[0;34m\u001b[0m\u001b[0m\n\u001b[1;32m      6\u001b[0m     \u001b[0mintensity_level\u001b[0m \u001b[0;34m=\u001b[0m \u001b[0mfloat\u001b[0m\u001b[0;34m(\u001b[0m\u001b[0minput\u001b[0m\u001b[0;34m(\u001b[0m\u001b[0;34m\"Enter Intensity Level: \"\u001b[0m\u001b[0;34m)\u001b[0m\u001b[0;34m)\u001b[0m\u001b[0;34m\u001b[0m\u001b[0;34m\u001b[0m\u001b[0m\n",
      "\u001b[0;31mValueError\u001b[0m: could not convert string to float: ''"
     ]
    }
   ],
   "source": [
    "from sklearn.linear_model import LinearRegression\n",
    "\n",
    "def calculate_estimate():\n",
    "    duration = float(input(\"Enter Duration (minutes): \"))\n",
    "    heart_rate = float(input(\"Enter Heart Rate (bpm): \"))\n",
    "    intensity_level = float(input(\"Enter Intensity Level: \"))\n",
    "\n",
    "    # Make a prediction using the user input\n",
    "    prediction = model.predict([[duration, heart_rate, intensity_level]])\n",
    "\n",
    "    print(\"Duration:\",duration)\n",
    "    print(\"Heart Rate:\",heart_rate)\n",
    "    print(\"Intensity Level:\",intensity_level)\n",
    "    print(\"Calorie Loss Estimate:\", prediction[0])\n",
    "\n",
    "    actual_calories_burned = float(input(\"Enter Actual Calories Burned: \"))\n",
    "    print(\"Actual Calories Loss:\", actual_calories_burned)\n",
    "    percent_accuracy = 100 * (1 - abs(prediction[0] - actual_calories_burned) / actual_calories_burned)\n",
    "    print(\"Percent Accuracy: {:.2f}%\".format(percent_accuracy))\n",
    "\n",
    "# Prompt user for input and calculate estimate\n",
    "calculate_estimate()"
   ]
  }
 ],
 "metadata": {
  "kernelspec": {
   "display_name": "Python 3",
   "language": "python",
   "name": "python3"
  },
  "language_info": {
   "codemirror_mode": {
    "name": "ipython",
    "version": 3
   },
   "file_extension": ".py",
   "mimetype": "text/x-python",
   "name": "python",
   "nbconvert_exporter": "python",
   "pygments_lexer": "ipython3",
   "version": "3.10.12"
  }
 },
 "nbformat": 4,
 "nbformat_minor": 2
}
